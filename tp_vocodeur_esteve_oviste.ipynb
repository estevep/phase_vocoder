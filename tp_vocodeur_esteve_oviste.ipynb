{
 "cells": [
  {
   "cell_type": "markdown",
   "metadata": {},
   "source": [
    "# TP Vocodeur de phase"
   ]
  },
  {
   "cell_type": "code",
   "execution_count": 2,
   "metadata": {},
   "outputs": [],
   "source": [
    "import numpy as np\n",
    "import matplotlib.pyplot as plt\n",
    "import scipy.signal as sig\n",
    "from scipy.fft import fft, ifft\n",
    "import wave\n",
    "from scipy.io.wavfile import write"
   ]
  },
  {
   "cell_type": "code",
   "execution_count": 3,
   "metadata": {},
   "outputs": [],
   "source": [
    "def load_sound(file):\n",
    "    return wave.open(file, 'rb')\n",
    "\n",
    "\n",
    "def play_sound(file, chunk = 1024):\n",
    "    \"\"\"\n",
    "    Script from PyAudio doc\n",
    "    \"\"\"\n",
    "    wf = load_sound(file)\n",
    "    p = pyaudio.PyAudio()\n",
    "    stream = p.open(format=p.get_format_from_width(wf.getsampwidth()),\n",
    "                    channels=wf.getnchannels(),\n",
    "                    rate=wf.getframerate(),\n",
    "                    output=True)\n",
    "    data = wf.readframes(chunk)\n",
    "\n",
    "    while data:\n",
    "        stream.write(data)\n",
    "        data = wf.readframes(chunk )\n",
    "\n",
    "    stream.stop_stream()\n",
    "    stream.close()\n",
    "    p.terminate()\n",
    "    \n",
    "    \n",
    "def plot_sound(data, times, name='default_name', save=False):\n",
    "    plt.figure(figsize=(30, 4))\n",
    "    plt.fill_between(times, data)\n",
    "    plt.xlim(times[0], times[-1])\n",
    "    plt.xlabel('time (s)')\n",
    "    plt.ylabel('amplitude')\n",
    "    if save:\n",
    "        plt.savefig(name+'.png', dpi=100)\n",
    "    plt.show()"
   ]
  },
  {
   "cell_type": "code",
   "execution_count": 4,
   "metadata": {},
   "outputs": [],
   "source": [
    "from scipy.signal import stft, istft"
   ]
  },
  {
   "cell_type": "markdown",
   "metadata": {},
   "source": [
    "## TFCT\n",
    "### Généralités"
   ]
  },
  {
   "cell_type": "code",
   "execution_count": 5,
   "metadata": {},
   "outputs": [
    {
     "name": "stderr",
     "output_type": "stream",
     "text": [
      "/var/folders/9l/gb5zsh4n7_5dc6vk35vdn5lw0000gn/T/ipykernel_1905/2739713345.py:7: DeprecationWarning: `hanning` is deprecated, use `scipy.signal.windows.hann` instead!\n",
      "  w = sig.hanning(M)\n"
     ]
    }
   ],
   "source": [
    "Fe = 2000\n",
    "t = np.arange(0, 1, 1/Fe)\n",
    "x = np.sin(2*np.pi*100*t) + 2*np.sin(2*np.pi*200*t)\n",
    "N = 2048\n",
    "M = 256\n",
    "R = 128\n",
    "w = sig.hanning(M)"
   ]
  },
  {
   "cell_type": "code",
   "execution_count": 6,
   "metadata": {},
   "outputs": [],
   "source": [
    "def stft_custom(x, w, R, N, affichage = False):\n",
    "    M = len(w)\n",
    "    print(x.shape, M)\n",
    "    \n",
    "    x = np.concatenate((np.zeros(M), x, np.zeros(M))) # zero padding\n",
    "    Nt = (len(x)-M)//R #+ 1 # nombre de trames\n",
    "    print(f\"{Nt=}\", f\"{len(x)=}\", f\"{(Nt-1)*R+M=}\")\n",
    "    Xtilde = np.zeros((Nt, N),dtype=complex)\n",
    "    for u in np.arange(0,Nt).reshape(-1): # boucle sur les trames\n",
    "        \n",
    "        deb = u * R + 1 # début de trame\n",
    "        fin = deb + M # fin de trame\n",
    "        tx = np.multiply(x[np.arange(deb.astype(int),fin.astype(int))],w) # calcul de la trame \n",
    "        X = np.fft.fft(tx,N) # tfd à l'instant b\n",
    "        Xtilde[u,:] = X\n",
    "                \n",
    "        f = np.arange(0,Fe,Fe/N)\n",
    "        t = np.linspace(-M/Fe, (M+len(x))/Fe, Nt, endpoint=False)\n",
    "\n",
    "    if affichage:\n",
    "        print(f\"{Xtilde.shape=}, {t.shape=}, {f.shape=}\")\n",
    "        plt.pcolormesh(t, f, 20*np.log10(np.abs(Xtilde.T)))\n",
    "        plt.ylim(0, Fe/2)\n",
    "        plt.show()\n",
    "    return Xtilde"
   ]
  },
  {
   "cell_type": "code",
   "execution_count": 7,
   "metadata": {},
   "outputs": [
    {
     "name": "stdout",
     "output_type": "stream",
     "text": [
      "(2000,) 256\n",
      "Nt=17 len(x)=2512 (Nt-1)*R+M=2304\n",
      "Xtilde.shape=(17, 2048), t.shape=(17,), f.shape=(2048,)\n"
     ]
    },
    {
     "name": "stderr",
     "output_type": "stream",
     "text": [
      "/var/folders/9l/gb5zsh4n7_5dc6vk35vdn5lw0000gn/T/ipykernel_1905/3547295370.py:22: RuntimeWarning: divide by zero encountered in log10\n",
      "  plt.pcolormesh(t, f, 20*np.log10(np.abs(Xtilde.T)))\n"
     ]
    },
    {
     "data": {
      "image/png": "[encoded data removed]",
      "text/plain": [
       "<Figure size 432x288 with 1 Axes>"
      ]
     },
     "metadata": {
      "needs_background": "light"
     },
     "output_type": "display_data"
    }
   ],
   "source": [
    "X_tilde = stft_custom(x, w, R, N, affichage = True)"
   ]
  },
  {
   "cell_type": "code",
   "execution_count": 8,
   "metadata": {},
   "outputs": [
    {
     "data": {
      "text/plain": [
       "((1025, 17), (17,), (1025,))"
      ]
     },
     "execution_count": 8,
     "metadata": {},
     "output_type": "execute_result"
    },
    {
     "data": {
      "image/png": "[encoded data removed]",
      "text/plain": [
       "<Figure size 432x288 with 1 Axes>"
      ]
     },
     "metadata": {
      "needs_background": "light"
     },
     "output_type": "display_data"
    }
   ],
   "source": [
    "f, t, X = stft(x, Fe, nperseg=M, nfft=N, window=w, noverlap=M//2, padded=True)\n",
    "plt.pcolormesh(t, f, 20*np.log10(np.abs(X)))\n",
    "X.shape, t.shape, f.shape"
   ]
  },
  {
   "cell_type": "markdown",
   "metadata": {},
   "source": [
    "#### a - Convention passe-bas\n",
    "\n",
    "En convention passe-bas :\n",
    "$$W_x(\\lambda, b) = \\sum_{n\\in\\mathbb{Z}} x(n) w(n-b)e^{-j2\\pi\\lambda n}$$\n",
    "$$W_x(\\lambda, b) = [x(n)e^{-j2\\pi\\lambda n} * w(-n)](b)$$"
   ]
  },
  {
   "cell_type": "markdown",
   "metadata": {},
   "source": [
    "A $\\lambda$ fixé, la définition \"en convention passe-bas\" de la TFCT correspond à une convolution de $x(n)e^{-j2\\pi\\lambda n}$ par le filtre $w(-n)$. \n",
    "\n",
    "Dans le domaine fréquentiel, on a multiplication $X(e^{j2\\pi(\\nu-\\lambda)})$ : signal $x$ \"démodulé\" et $W(e^{j2\\pi(-\\nu)})$. C'est bien un filtrage passe-bas, afin de conserver les fréquences proches de $\\lambda$ présentes dans $x$.\n",
    "\n",
    "La fenêtre est toujours symétrique, on a donc un filtre de type I si elle est de longueur impaire, et de type II si elle est de longueur paire."
   ]
  },
  {
   "cell_type": "markdown",
   "metadata": {},
   "source": [
    "#### b - Convention passe-bande\n",
    "\n",
    "En convention passe-bande :\n",
    "$$\\tilde{X}(\\lambda, b) = \\sum_{n\\in\\mathbb{Z}} x(n+b) w(n)e^{-j2\\pi\\lambda n}$$\n",
    "$$\\tilde{X}(\\lambda, b) = \\sum_{m\\in\\mathbb{Z}} x(m) w(m-b)e^{-j2\\pi\\lambda (m-b)}$$\n",
    "\n",
    "On définit $h_\\lambda (n)=e^{j2\\pi\\lambda n}w(-n)$ \n",
    "\n",
    "$$\\tilde{X}(\\lambda, b) = [x * h_\\lambda](b)$$\n",
    "\n",
    "A $\\lambda$ fixé, la définition \"en convention passe-bande\" de la TFCT correspond à une convolution de $x(n)$ par le filtre $h_\\lambda (n)$. \n",
    "\n",
    "$$\\tilde{X}(\\lambda, b) = \\sum_{m\\in\\mathbb{Z}} x(m) w(m-b)e^{-j2\\pi\\lambda m} e^{j2\\pi\\lambda b}$$\n",
    "$$\\tilde{X}(\\lambda, b) = e^{j2\\pi\\lambda b} W_x(\\lambda, b) $$"
   ]
  },
  {
   "cell_type": "markdown",
   "metadata": {},
   "source": [
    "La version implémentée ci-dessus est la TFCT \"en convention passe-bande\"."
   ]
  },
  {
   "cell_type": "markdown",
   "metadata": {},
   "source": [
    "### c - Interprétation en terme de filtrage"
   ]
  },
  {
   "cell_type": "code",
   "execution_count": 9,
   "metadata": {},
   "outputs": [],
   "source": [
    "import struct\n",
    "wavefile = load_sound('song.wav')\n",
    "\n",
    "Fs = int(wavefile.getframerate())\n",
    "num_samples = int(wavefile.getnframes())\n",
    "data = wavefile.readframes(num_samples)\n",
    "data = struct.unpack('{n}h'.format(n=num_samples), data)\n",
    "x = np.array(data)[:5*Fs]"
   ]
  },
  {
   "cell_type": "code",
   "execution_count": 10,
   "metadata": {},
   "outputs": [
    {
     "name": "stderr",
     "output_type": "stream",
     "text": [
      "/var/folders/9l/gb5zsh4n7_5dc6vk35vdn5lw0000gn/T/ipykernel_1905/1266315604.py:4: DeprecationWarning: `hanning` is deprecated, use `scipy.signal.windows.hann` instead!\n",
      "  w = sig.hanning(M)\n"
     ]
    },
    {
     "data": {
      "text/plain": [
       "[<matplotlib.lines.Line2D at 0x7fcc092dc880>]"
      ]
     },
     "execution_count": 10,
     "metadata": {},
     "output_type": "execute_result"
    },
    {
     "data": {
      "image/png": "[encoded data removed]",
      "text/plain": [
       "<Figure size 432x288 with 1 Axes>"
      ]
     },
     "metadata": {
      "needs_background": "light"
     },
     "output_type": "display_data"
    }
   ],
   "source": [
    "N = 64\n",
    "M = 64\n",
    "R = 1\n",
    "w = sig.hanning(M)\n",
    "\n",
    "# X_tilde = stft_custom(x, w, R, N, affichage = False) # Not used because it is too slow\n",
    "\n",
    "_, _, X_tilde = stft(x, window=w, noverlap=R, nfft=N, padded=True, fs=Fs, nperseg=M)\n",
    "X_tilde = X_tilde.T\n",
    "\n",
    "k = 12\n",
    "X_tilde[:, k]\n",
    "plt.plot(np.abs(X_tilde[:, k]))"
   ]
  },
  {
   "cell_type": "code",
   "execution_count": 11,
   "metadata": {},
   "outputs": [
    {
     "data": {
      "text/plain": [
       "[<matplotlib.lines.Line2D at 0x7fcbf161fdc0>]"
      ]
     },
     "execution_count": 11,
     "metadata": {},
     "output_type": "execute_result"
    },
    {
     "data": {
      "image/png": "[encoded data removed]",
      "text/plain": [
       "<Figure size 432x288 with 1 Axes>"
      ]
     },
     "metadata": {
      "needs_background": "light"
     },
     "output_type": "display_data"
    }
   ],
   "source": [
    "lambda_k = k/M\n",
    "h_lambda = np.multiply(np.exp(2*1j*np.pi*lambda_k*np.arange(M)),w[::-1])\n",
    "x_k = sig.lfilter(h_lambda, [1], x)\n",
    "plt.plot(np.abs(x_k))"
   ]
  },
  {
   "cell_type": "code",
   "execution_count": 12,
   "metadata": {},
   "outputs": [],
   "source": [
    "import pyaudio\n",
    "\n",
    "write('filtered_song_k_12.wav', Fs, np.real(x_k)/np.max(np.real(x_k)))"
   ]
  },
  {
   "cell_type": "code",
   "execution_count": 13,
   "metadata": {},
   "outputs": [
    {
     "data": {
      "text/plain": [
       "8268.75"
      ]
     },
     "execution_count": 13,
     "metadata": {},
     "output_type": "execute_result"
    }
   ],
   "source": [
    "k*Fs/N"
   ]
  },
  {
   "cell_type": "markdown",
   "metadata": {},
   "source": [
    "En écoutant le signal, on constate qu'il est filtré passe-haut, ce qui est logique puisqu'on se concentre sur le canal filtrant à $k F_s/N \\simeq 8,3 kHz$.\n",
    "\n",
    "On a bien le même résultat avec la méthode de filtrage et en prenant le $k^e$ canal de la STFT."
   ]
  },
  {
   "cell_type": "markdown",
   "metadata": {},
   "source": [
    "### Reconstruction"
   ]
  },
  {
   "cell_type": "code",
   "execution_count": 14,
   "metadata": {},
   "outputs": [],
   "source": [
    "def ola(w = None,hop = None,Nb = 10): \n",
    "# function output = ola(w,hop,Nb)\n",
    "# realise l'addition-recouvrement de la fenetre w,\n",
    "# avec un décalage hop et un nombre Nb de fenetres.\n",
    "# par defaut Nb = 10;\n",
    "    \n",
    "    w = w[:, np.newaxis]\n",
    "    N = len(w)\n",
    "    output = np.zeros(((Nb - 1) * hop + N,1)) # réserve l'espace memoire\n",
    "    \n",
    "    for k in np.arange(0,Nb).reshape(-1):\n",
    "        deb = k* hop\n",
    "        fin = deb + N\n",
    "        output[np.arange(deb,fin)] = output[np.arange(deb,fin)] + w # OLA\n",
    "    \n",
    "    return output"
   ]
  },
  {
   "cell_type": "markdown",
   "metadata": {},
   "source": [
    "#### d - Condition de reconstruction parfaite\n",
    "\n",
    "La reconstruction donne un signal $y(n)$:\n",
    "\n",
    "$$y(n) = \\sum_{u \\in \\mathbb{Z}} y_s (u, n-uR)$$\n",
    "\n",
    "avec $y_s (u,n) = \\frac{1}{M} \\sum_{k=0}^{M-1}\\tilde{X}(k,u) e^{2i\\pi\\frac{k}{M}n}w_s(n)$ où $\\tilde{X}(k,u) = \\sum_{n \\in \\mathbb{Z}} x(n+uR)w(n)e^{-2i\\pi\\frac{k}{M}n}$ \n",
    "\n",
    "En remplacant $y_s(n)$ et $\\tilde{X}(k,u)$ on a:\n",
    "$$y(n) = \\sum_{u \\in \\mathbb{Z}} w_s (n-uR) \\sum_{m=0}^{M} x(m+uR)w(m) \\frac{1}{M} \\sum_{k=0}^{M-1} e^{2i\\pi \\frac{k}{M} (n-m-uR)}$$\n",
    "Or $\\sum_{k=0}^{M-1} e^{2i\\pi \\frac{k}{M} (n-m-uR)} = \\frac{1 - e^{2i\\pi(n-m-uR)}}{1 - e^{2i\\pi\\frac{n-m-uR}{M}}} = \\mathbb{I}_{n-m-uR \\in M\\mathbb{Z}}$\n",
    "\n",
    "Etant donné que $m \\in [0, R-1]$ et que $M\\geq R$, cette indicatrice est non-nulle si et seulement si $m=n-uR$. On a donc\n",
    "$$y(n) = \\left[\\sum_{u \\in \\mathbb{Z}}w_s(n - uR)w(n-uR)\\right]x(n)$$\n",
    "Une condition suffisante pour la reconstruction parfaite est donc:\n",
    "$$\\forall n \\;\\, f(n) = \\sum_{u \\in \\mathbb{Z}}w_s(n - uR)w(n-uR) = 1$$"
   ]
  },
  {
   "cell_type": "code",
   "execution_count": 15,
   "metadata": {},
   "outputs": [],
   "source": [
    "N = 1024\n",
    "M = 256\n",
    "R = M//4"
   ]
  },
  {
   "cell_type": "code",
   "execution_count": 16,
   "metadata": {},
   "outputs": [
    {
     "data": {
      "image/png": "[encoded data removed]",
      "text/plain": [
       "<Figure size 432x288 with 1 Axes>"
      ]
     },
     "metadata": {
      "needs_background": "light"
     },
     "output_type": "display_data"
    }
   ],
   "source": [
    "rec = 0.75\n",
    "hop = int((1-rec)*M)\n",
    "w = np.hanning(M)\n",
    "Nb=10\n",
    "f = ola(w**2, hop, Nb = Nb)\n",
    "w_norm = np.sqrt(f[((Nb - 1) * hop + M)//2])\n",
    "h = np.hanning(M)\n",
    "h = h/w_norm\n",
    "\n",
    "Nbs = [10, 100] #100, 1000, 10000\n",
    "f_norm = [ola(h, hop, Nb = Nbs[i]) for i in range(len(Nbs))]\n",
    "plt.figure()\n",
    "plt.title(r'$f_{N_b}(n)$ lorsque $N_b \\to \\infty$')\n",
    "for i in range(len(Nbs)):\n",
    "    plt.plot(f_norm[i], label=r'$N_b = $' + str(Nbs[i]))\n",
    "plt.legend()\n",
    "#plt.hlines(1, xmin=0, xmax=len(f_norm[0]))\n",
    "plt.xscale('log')"
   ]
  },
  {
   "cell_type": "markdown",
   "metadata": {},
   "source": [
    "On voit bien que lorsque $N_b \\to \\infty$ on a la propriété qui tient pour tout $n$ (La causalité de l'algorithme ola fait que $f$ n'est pas une constante pour les basses valeurs de $n$)"
   ]
  },
  {
   "cell_type": "code",
   "execution_count": 20,
   "metadata": {},
   "outputs": [
    {
     "data": {
      "text/plain": [
       "(660224, 1)"
      ]
     },
     "execution_count": 20,
     "metadata": {},
     "output_type": "execute_result"
    }
   ],
   "source": [
    "w = np.hanning(M)/w_norm # définition de la fenetre d'analyse\n",
    "ws = w.copy(); # définition de la fenêtre de synthèse\n",
    "R = M//4 # incrément sur les temps d'analyse, appelé hop size, t_a=uR\n",
    "M = 512 # ordre de la tfd\n",
    "hop = M-R\n",
    "L = M/2+1\n",
    "affich = 0 ; # pour affichage du spectrogramme, 0 pour\n",
    "             # pour faire analyse/modif/synthèse sans affichage\n",
    "             # note: cf. spectrogram sous Matlab\n",
    "Nt = np.rint((len(x) - M) / R) # calcul du nombre de tfd à calculer\n",
    "Nt = Nt.astype(int)\n",
    "y = np.zeros(len(x)) # signal de synthèse\n",
    "\n",
    "ola(ws*w, hop, Nb = Nt).shape\n"
   ]
  },
  {
   "cell_type": "code",
   "execution_count": null,
   "metadata": {},
   "outputs": [
    {
     "name": "stdout",
     "output_type": "stream",
     "text": [
      "(220500,)\n",
      "(1724, 513) 1719\n"
     ]
    }
   ],
   "source": [
    "w = np.hanning(M)/w_norm # définition de la fenetre d'analyse\n",
    "ws = w.copy(); # définition de la fenêtre de synthèse\n",
    "R = M//4 # incrément sur les temps d'analyse, appelé hop size, t_a=uR\n",
    "M = 512 # ordre de la tfd\n",
    "hop = M-R\n",
    "L = M/2+1\n",
    "affich = 0 ; # pour affichage du spectrogramme, 0 pour\n",
    "             # pour faire analyse/modif/synthèse sans affichage\n",
    "             # note: cf. spectrogram sous Matlab\n",
    "Nt = np.rint((len(x) - M) / R) # calcul du nombre de tfd à calculer\n",
    "Nt = Nt.astype(int)\n",
    "y = np.zeros(len(x)) # signal de synthèse\n",
    "print(y.shape)\n",
    "\n",
    "\n",
    "# We use the scipy function to compute the STFT, because it is faster\n",
    "_, _, X_tilde = stft(x, window=w, noverlap=hop, nfft=N, padded=True, fs=Fs, nperseg=M)\n",
    "X_tilde = X_tilde.T\n",
    "print(X_tilde.shape, Nt)\n",
    "\n",
    "for u in np.arange(0,Nt).reshape(-1): # boucle sur les trames\n",
    "    deb = u * R + 1 # début de trame\n",
    "    fin = deb + M # fin de trame\n",
    "    y_s = ifft(X_tilde[u, :], M) # tfd inverse\n",
    "    ty = np.multiply(np.real(y_s),ws)\n",
    "    # ty = np.multiply(np.real(np.fft.ifft(Y, Nw)),ws)\n",
    "    # overlap add\n",
    "\n",
    "    y[int(deb):int(fin)] += ty\n",
    "y = y/ola(ws*w, hop, Nb = Nt) # normalisation\n",
    "\n",
    "plt.figure()\n",
    "plt.plot(y)\n",
    "plt.figure()\n",
    "plt.plot(x)\n",
    "    "
   ]
  },
  {
   "cell_type": "code",
   "execution_count": null,
   "metadata": {},
   "outputs": [],
   "source": [
    "import os\n",
    "play = False\n",
    "fn = f'overlap_add_song.wav'\n",
    "write(fn, Fs, np.array(y, dtype=np.int16)) # to write a new wave file\n",
    "data_path = os.getcwd()\n",
    "sound = os.path.join(data_path, fn) \n",
    "if play :\n",
    "    play_sound(sound) "
   ]
  },
  {
   "cell_type": "markdown",
   "metadata": {},
   "source": [
    "### Egaliseur Audio à TFCT"
   ]
  },
  {
   "cell_type": "markdown",
   "metadata": {},
   "source": [
    "#### Q7 - Implémentation égaliseur et application passe-bas et passe-haut"
   ]
  },
  {
   "cell_type": "code",
   "execution_count": null,
   "metadata": {},
   "outputs": [],
   "source": [
    "def egaliseur(x, weights, Nw = 512, rec=0.75, M=512, L=257):\n",
    "    if len(weights) != M:\n",
    "        raise Exception('Invalid size for weights. Must be equal to tfct order')\n",
    "    w = np.hanning(Nw)/w_norm # définition de la fenetre d'analyse\n",
    "    ws = w.copy(); # définition de la fenêtre de synthèse\n",
    "    R = int((1-rec)*Nw) # incrément sur les temps d'analyse, appelé hop size, t_a=uR\n",
    "    Nt = np.rint((N - Nw) / R) # calcul du nombre de tfd à calculer\n",
    "    Nt = Nt.astype(int)\n",
    "    y = np.zeros(N) # signal de synthèse\n",
    "    for u in np.arange(0,Nt).reshape(-1): # boucle sur les trames\n",
    "        deb = u * R + 1 # début de trame\n",
    "        fin = deb + Nw # fin de trame\n",
    "        tx = np.multiply(x[np.arange(deb.astype(int),fin.astype(int))],w) # calcul de la trame \n",
    "        X = np.fft.fft(tx,M) # tfd à l'instant b\n",
    "        '''Y = X.copy()\n",
    "        for k in range(M):\n",
    "            Y[k] *= weights[k]'''\n",
    "        Y = np.multiply(X,weights)\n",
    "        ty = np.multiply(np.real(np.fft.ifft(Y, Nw)),ws)\n",
    "        y[int(deb):int(fin)] += ty\n",
    "    return y"
   ]
  },
  {
   "cell_type": "markdown",
   "metadata": {},
   "source": [
    "#### Passe-bas"
   ]
  },
  {
   "cell_type": "code",
   "execution_count": null,
   "metadata": {},
   "outputs": [],
   "source": [
    "Nw = 512\n",
    "weights = np.zeros(Nw)\n",
    "k_cutoff = 6\n",
    "weights[:k_cutoff] = np.ones(k_cutoff)\n",
    "weights[Nw-k_cutoff:] = np.ones(k_cutoff)\n",
    "y = egaliseur(x, weights)\n",
    "fn = f'new_caravan_equalizer_passe_bas_{int(k_cutoff/Nw * Fs)}Hz.wav'\n",
    "write(fn, Fs, np.array(y, dtype=np.int16)) # to write a new wave file"
   ]
  },
  {
   "cell_type": "markdown",
   "metadata": {},
   "source": [
    "#### Passe-haut"
   ]
  },
  {
   "cell_type": "code",
   "execution_count": null,
   "metadata": {},
   "outputs": [],
   "source": [
    "Nw = 512\n",
    "weights = np.ones(Nw)\n",
    "k_cutoff = 10\n",
    "weights[:k_cutoff] = np.zeros(k_cutoff)\n",
    "weights[Nw-k_cutoff:] = np.zeros(k_cutoff)\n",
    "y = egaliseur(x, weights)\n",
    "fn = f'new_caravan_equalizer_passe_haut_{int(k_cutoff/Nw * Fs)}Hz.wav'\n",
    "write(fn, Fs, np.array(y, dtype=np.int16)) # to write a new wave file"
   ]
  },
  {
   "cell_type": "code",
   "execution_count": null,
   "metadata": {},
   "outputs": [],
   "source": []
  }
 ],
 "metadata": {
  "kernelspec": {
   "display_name": "NT",
   "language": "python",
   "name": "python3"
  },
  "language_info": {
   "codemirror_mode": {
    "name": "ipython",
    "version": 3
   },
   "file_extension": ".py",
   "mimetype": "text/x-python",
   "name": "python",
   "nbconvert_exporter": "python",
   "pygments_lexer": "ipython3",
   "version": "3.8.13"
  }
 },
 "nbformat": 4,
 "nbformat_minor": 2
}
